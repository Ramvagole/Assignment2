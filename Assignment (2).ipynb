{
 "cells": [
  {
   "cell_type": "code",
   "execution_count": null,
   "id": "ef979c38-5cf9-481a-bb07-e904b1a1e25c",
   "metadata": {},
   "outputs": [],
   "source": [
    "Q1):- def is keyword to creat a function.\n"
   ]
  },
  {
   "cell_type": "code",
   "execution_count": 1,
   "id": "77133e4f-48f4-4822-a797-66ce3c9b79e5",
   "metadata": {},
   "outputs": [
    {
     "name": "stdin",
     "output_type": "stream",
     "text": [
      "Enter the number: 25\n"
     ]
    },
    {
     "name": "stdout",
     "output_type": "stream",
     "text": [
      "[1, 3, 5, 7, 9, 11, 13, 15, 17, 19, 21, 23]\n"
     ]
    }
   ],
   "source": [
    "    def odd(n):\n",
    "        l=[]\n",
    "        for i in range(n):\n",
    "            if i%2!=0:\n",
    "                l+=[i]\n",
    "        return l\n",
    "    a=int(input(\"Enter the number:\"))\n",
    "    print(odd(a))"
   ]
  },
  {
   "cell_type": "code",
   "execution_count": null,
   "id": "5383aa26-a159-4409-9bec-aa8b13e6798d",
   "metadata": {},
   "outputs": [],
   "source": [
    "Q2):-We use *args and **kwargs as an argument when we are unsure about the number of arguments to pass in the functions."
   ]
  },
  {
   "cell_type": "code",
   "execution_count": 2,
   "id": "4819cd18-c99a-4ff3-a4a3-06e0519ce3b6",
   "metadata": {},
   "outputs": [
    {
     "name": "stdout",
     "output_type": "stream",
     "text": [
      "(1, 2, 3)\n",
      "{'a': 1, 'b': 2, 'c': 3}\n"
     ]
    }
   ],
   "source": [
    "def num(*args):\n",
    "    print(args)\n",
    "num(1,2,3)\n",
    "\n",
    "def num(**kwargs):\n",
    "    print(kwargs)\n",
    "num(a=1,b=2,c=3)\n",
    "    "
   ]
  },
  {
   "cell_type": "code",
   "execution_count": null,
   "id": "fd9ea5d5-0088-44dc-a510-54886d464ac5",
   "metadata": {},
   "outputs": [],
   "source": [
    "Q3):-1)Iterator in Python is an object that is used to iterate over iterable objects like lists, tuples, dicts, and sets.\n",
    "     2)The iterator object is  initialized using the iter() method. \n",
    "     3)It uses  the next()  method for iteration."
   ]
  },
  {
   "cell_type": "code",
   "execution_count": 14,
   "id": "c9e6fabd-ba52-4a4c-91f0-7ab1e30ad39b",
   "metadata": {},
   "outputs": [
    {
     "name": "stdout",
     "output_type": "stream",
     "text": [
      "2\n",
      "4\n",
      "6\n",
      "8\n",
      "10\n"
     ]
    }
   ],
   "source": [
    "l=[2,4,6,8,10,12,14,16,18,20]\n",
    "a=iter(l)\n",
    "print(next(a))\n",
    "print(next(a))\n",
    "print(next(a))\n",
    "print(next(a))\n",
    "print(next(a))"
   ]
  },
  {
   "cell_type": "code",
   "execution_count": null,
   "id": "54b84a79-8f12-4d5b-9f0f-d9e6ffb34e46",
   "metadata": {},
   "outputs": [],
   "source": [
    "Q4):-1)Python  provides a generator to create  your own iterator function.\n",
    "     2)A generator is  a special  type of function  it returns an iterator object.\n",
    "     3)In  a generator function a yield statement is used rather than a return statement."
   ]
  },
  {
   "cell_type": "code",
   "execution_count": 20,
   "id": "501f4361-1141-422a-adad-cbf59aa8d16f",
   "metadata": {},
   "outputs": [
    {
     "name": "stdout",
     "output_type": "stream",
     "text": [
      "1\n",
      "2\n",
      "3\n",
      "4\n",
      "5\n",
      "6\n"
     ]
    }
   ],
   "source": [
    "def gen(a):\n",
    "    for i in range(len(a)):\n",
    "         yield a[i]\n",
    "l=[1,2,3,4,5,6]\n",
    "a=gen(l)\n",
    "for i in a:\n",
    "    print(i)"
   ]
  },
  {
   "cell_type": "code",
   "execution_count": 49,
   "id": "05505421-1514-460e-accd-7c4f09d3d6a3",
   "metadata": {},
   "outputs": [
    {
     "name": "stdout",
     "output_type": "stream",
     "text": [
      "2\n",
      "3\n",
      "5\n",
      "7\n",
      "11\n",
      "13\n",
      "17\n",
      "19\n",
      "23\n",
      "29\n"
     ]
    }
   ],
   "source": [
    "\"\"\"Q5):-\"\"\"\n",
    "def prim(a,b):\n",
    "    for l in range(a,b+1):\n",
    "        if l > 1:\n",
    "            for i in range(2,l):\n",
    "                if (l%i)==0:\n",
    "                    break\n",
    "            else:\n",
    "                 yield l\n",
    "a=1\n",
    "b=1000\n",
    "p=prim(a,b)\n",
    "print(next(p))\n",
    "print(next(p))\n",
    "print(next(p))\n",
    "print(next(p))\n",
    "print(next(p))\n",
    "print(next(p))\n",
    "print(next(p))\n",
    "print(next(p))\n",
    "print(next(p))\n",
    "print(next(p))"
   ]
  },
  {
   "cell_type": "code",
   "execution_count": 38,
   "id": "22c72767-fd70-463d-a313-a882a4a10b85",
   "metadata": {},
   "outputs": [
    {
     "name": "stdout",
     "output_type": "stream",
     "text": [
      "0\n",
      "1\n",
      "1\n",
      "2\n",
      "3\n",
      "5\n",
      "8\n",
      "13\n",
      "21\n",
      "34\n"
     ]
    }
   ],
   "source": [
    "#Q6):-\n",
    "a,b=0,1\n",
    "i=0\n",
    "while i<10:\n",
    "    print(a)\n",
    "    c=a+b\n",
    "    a=b\n",
    "    b=c\n",
    "    i=i+1"
   ]
  },
  {
   "cell_type": "code",
   "execution_count": 39,
   "id": "62b21ecd-00f5-41cd-ba40-fc1c6cfe6e11",
   "metadata": {},
   "outputs": [
    {
     "name": "stdout",
     "output_type": "stream",
     "text": [
      "['p', 'w', 's', 'k', 'i', 'l', 'l', 's']\n"
     ]
    }
   ],
   "source": [
    "#Q7):-\n",
    "s=\"pwskills\"\n",
    "a=[i for i in s]\n",
    "print(a)"
   ]
  },
  {
   "cell_type": "code",
   "execution_count": 42,
   "id": "49a521f2-bfcb-488e-8d64-5a08949742af",
   "metadata": {},
   "outputs": [
    {
     "name": "stdin",
     "output_type": "stream",
     "text": [
      "Enter a number: 88\n"
     ]
    },
    {
     "name": "stdout",
     "output_type": "stream",
     "text": [
      "The number is palindrome!\n"
     ]
    }
   ],
   "source": [
    "#Q8):-\n",
    "num=int(input(\"Enter a number:\"))\n",
    "temp=num\n",
    "rev=0\n",
    "while(num>0):\n",
    "    dig=num%10\n",
    "    rev=rev*10+dig\n",
    "    num=num//10\n",
    "if(temp==rev):\n",
    "     print(\"The number is palindrome!\")\n",
    "else:\n",
    "     print(\"not a palindrome\")"
   ]
  },
  {
   "cell_type": "code",
   "execution_count": 43,
   "id": "3248234b-79f8-4ebc-b21b-310988502406",
   "metadata": {},
   "outputs": [
    {
     "name": "stdout",
     "output_type": "stream",
     "text": [
      "[1, 3, 5, 7, 9, 11, 13, 15, 17, 19, 21, 23, 25, 27, 29, 31, 33, 35, 37, 39, 41, 43, 45, 47, 49, 51, 53, 55, 57, 59, 61, 63, 65, 67, 69, 71, 73, 75, 77, 79, 81, 83, 85, 87, 89, 91, 93, 95, 97, 99]\n"
     ]
    }
   ],
   "source": [
    "#9):-\n",
    "n=100\n",
    "a=[i for i in range(n) if i%2!=0]\n",
    "print(a)"
   ]
  },
  {
   "cell_type": "code",
   "execution_count": null,
   "id": "2994fc07-085d-4ffb-beb0-0985a24a46b6",
   "metadata": {},
   "outputs": [],
   "source": []
  }
 ],
 "metadata": {
  "kernelspec": {
   "display_name": "Python 3 (ipykernel)",
   "language": "python",
   "name": "python3"
  },
  "language_info": {
   "codemirror_mode": {
    "name": "ipython",
    "version": 3
   },
   "file_extension": ".py",
   "mimetype": "text/x-python",
   "name": "python",
   "nbconvert_exporter": "python",
   "pygments_lexer": "ipython3",
   "version": "3.10.8"
  }
 },
 "nbformat": 4,
 "nbformat_minor": 5
}
